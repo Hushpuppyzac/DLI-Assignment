{
  "nbformat": 4,
  "nbformat_minor": 0,
  "metadata": {
    "colab": {
      "provenance": [],
      "authorship_tag": "ABX9TyOhjx48SWmHjm0jF435Zq9h",
      "include_colab_link": true
    },
    "kernelspec": {
      "name": "python3",
      "display_name": "Python 3"
    },
    "language_info": {
      "name": "python"
    }
  },
  "cells": [
    {
      "cell_type": "markdown",
      "metadata": {
        "id": "view-in-github",
        "colab_type": "text"
      },
      "source": [
        "<a href=\"https://colab.research.google.com/github/Hushpuppyzac/DLI-Assignment/blob/main/Amos_DecisionTree.ipynb\" target=\"_parent\"><img src=\"https://colab.research.google.com/assets/colab-badge.svg\" alt=\"Open In Colab\"/></a>"
      ]
    },
    {
      "cell_type": "code",
      "source": [
        "from google.colab import drive\n",
        "drive.mount ('/content/drive')"
      ],
      "metadata": {
        "id": "VDqDc_e4Gf7u"
      },
      "execution_count": null,
      "outputs": []
    },
    {
      "cell_type": "code",
      "execution_count": null,
      "metadata": {
        "id": "VxeY-YgDGRvM"
      },
      "outputs": [],
      "source": [
        "import requests\n",
        "import nbformat\n",
        "from IPython import get_ipython\n",
        "\n",
        "def run_notebook_from_github(url):\n",
        "    \"\"\"\n",
        "    Downloads and executes a Jupyter notebook from a GitHub raw URL.\n",
        "\n",
        "    Parameters:\n",
        "    url (str): Raw GitHub URL to a .ipynb notebook file\n",
        "    \"\"\"\n",
        "    print(\"🔄 Downloading notebook from GitHub...\")\n",
        "    try:\n",
        "        response = requests.get(url)\n",
        "        response.raise_for_status()\n",
        "    except Exception as e:\n",
        "        print(f\"❌ Failed to download notebook: {e}\")\n",
        "        return\n",
        "\n",
        "    print(\"📖 Parsing notebook content...\")\n",
        "    try:\n",
        "        notebook = nbformat.reads(response.text, as_version=4)\n",
        "    except Exception as e:\n",
        "        print(f\"❌ Failed to parse notebook: {e}\")\n",
        "        return\n",
        "\n",
        "    ipython = get_ipython()\n",
        "    print(\"⚙️  Running notebook cells...\\n\")\n",
        "\n",
        "    for i, cell in enumerate(notebook.cells):\n",
        "        if cell.cell_type == 'code':\n",
        "            try:\n",
        "                print(f\"▶️  Executing cell [{i + 1}]...\")\n",
        "                ipython.run_cell(cell.source)\n",
        "            except Exception as e:\n",
        "                print(f\"❌ Error in cell [{i + 1}]: {e}\")\n",
        "\n",
        "    print(\"\\n✅ All executable cells have been processed.\")\n",
        "\n",
        "# 🔗 Your GitHub raw notebook URL\n",
        "notebook_url = \"https://raw.githubusercontent.com/Hushpuppyzac/DLI-Assignment/main/CleanedData.ipynb\"\n",
        "\n",
        "# ▶️ Run it\n",
        "run_notebook_from_github(notebook_url)"
      ]
    }
  ]
}