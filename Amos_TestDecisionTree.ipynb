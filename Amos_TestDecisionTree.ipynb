{
 "cells": [
  {
   "cell_type": "code",
   "execution_count": null,
   "id": "f85ad22a",
   "metadata": {},
   "outputs": [],
   "source": [
    "# 📦 Install and import necessary libraries\n",
    "import pandas as pd\n",
    "import numpy as np\n",
    "import matplotlib.pyplot as plt\n",
    "import seaborn as sns\n",
    "\n",
    "from sklearn.utils import resample\n",
    "from sklearn.model_selection import train_test_split\n",
    "from sklearn.preprocessing import StandardScaler\n",
    "from sklearn.tree import DecisionTreeClassifier\n",
    "from sklearn.metrics import accuracy_score, precision_score, recall_score, f1_score, roc_auc_score, confusion_matrix, RocCurveDisplay\n",
    "from IPython.display import display\n",
    "\n",
    "# For reproducibility\n",
    "np.random.seed(42)\n"
   ]
  },
  {
   "cell_type": "code",
   "execution_count": null,
   "id": "fea88846",
   "metadata": {},
   "outputs": [],
   "source": [
    "# 📂 Load the dataset\n",
    "url = \"https://raw.githubusercontent.com/Hushpuppyzac/DLI-Assignment/main/Friday-WorkingHours-Afternoon-DDos.pcap_ISCX.csv\"\n",
    "df = pd.read_csv(url)\n",
    "print(f\"✅ Data loaded. Shape: {df.shape}\")\n",
    "display(df.head())\n"
   ]
  },
  {
   "cell_type": "code",
   "execution_count": null,
   "id": "388cc331",
   "metadata": {},
   "outputs": [],
   "source": [
    "df.columns = df.columns.str.strip()\n",
    "\n",
    "if ' Label' in df.columns:\n",
    "    df.rename(columns={' Label': 'Label'}, inplace=True)\n",
    "\n",
    "df.replace([np.inf, -np.inf], np.nan, inplace=True)\n",
    "df.dropna(inplace=True)\n",
    "df.drop_duplicates(inplace=True)\n",
    "\n",
    "constant_cols = [col for col in df.columns if df[col].nunique() == 1]\n",
    "df.drop(columns=constant_cols, inplace=True)\n",
    "\n",
    "df = df[df['Label'].isin(['BENIGN', 'DDoS'])]\n",
    "df['Label'] = df['Label'].apply(lambda x: 1 if x == 'DDoS' else 0)\n"
   ]
  },
  {
   "cell_type": "code",
   "execution_count": null,
   "id": "f069ef31",
   "metadata": {},
   "outputs": [],
   "source": [
    "X = df.drop('Label', axis=1)\n",
    "X = X.select_dtypes(include=[np.number])  # Keep numeric only\n",
    "y = df['Label']\n",
    "\n",
    "X_train, X_test, y_train, y_test = train_test_split(X, y, test_size=0.2, random_state=42, stratify=y)\n"
   ]
  },
  {
   "cell_type": "code",
   "execution_count": null,
   "id": "0dc3b790",
   "metadata": {},
   "outputs": [],
   "source": [
    "df_train = pd.concat([X_train, y_train], axis=1)\n",
    "df_majority = df_train[df_train['Label'] == 1]\n",
    "df_minority = df_train[df_train['Label'] == 0]\n",
    "\n",
    "df_majority_downsampled = resample(df_majority, replace=False, n_samples=len(df_minority), random_state=42)\n",
    "df_balanced = pd.concat([df_majority_downsampled, df_minority]).sample(frac=1, random_state=42).reset_index(drop=True)\n",
    "\n",
    "X_train_balanced = df_balanced.drop('Label', axis=1)\n",
    "y_train_balanced = df_balanced['Label']\n"
   ]
  },
  {
   "cell_type": "code",
   "execution_count": null,
   "id": "018efde8",
   "metadata": {},
   "outputs": [],
   "source": [
    "def extract_features(df_input):\n",
    "    df_input['pkt_length_diff'] = df_input['Max Packet Length'] - df_input['Min Packet Length']\n",
    "    df_input['pkt_length_var_ratio'] = (df_input['Max Packet Length'] / (df_input['Packet Length Mean'] + 1e-5)).round(3)\n",
    "    df_input['byte_ratio'] = (df_input['Total Length of Fwd Packets'] / (df_input['Total Length of Bwd Packets'] + 1e-5)).round(3)\n",
    "    df_input['duration_per_packet'] = (df_input['Flow Duration'] / (df_input['Total Fwd Packets'] + df_input['Total Backward Packets'] + 1e-5)).round(3)\n",
    "    df_input['avg_to_max_ratio'] = (df_input['Average Packet Size'] / (df_input['Max Packet Length'] + 1e-5)).round(3)\n",
    "    return df_input\n",
    "\n",
    "X_train_featured = extract_features(X_train_balanced.copy())\n",
    "X_test_featured = extract_features(X_test.copy())\n"
   ]
  },
  {
   "cell_type": "code",
   "execution_count": null,
   "id": "fcb5f37c",
   "metadata": {},
   "outputs": [],
   "source": [
    "scaler = StandardScaler()\n",
    "num_cols = X_train_featured.select_dtypes(include=[np.number]).columns.tolist()\n",
    "\n",
    "scaler.fit(X_train_featured[num_cols])\n",
    "\n",
    "X_train_scaled = pd.DataFrame(scaler.transform(X_train_featured[num_cols]), columns=num_cols, index=X_train_featured.index)\n",
    "X_test_scaled = pd.DataFrame(scaler.transform(X_test_featured[num_cols]), columns=num_cols, index=X_test_featured.index)\n"
   ]
  },
  {
   "cell_type": "code",
   "execution_count": null,
   "id": "c7a00591",
   "metadata": {},
   "outputs": [],
   "source": [
    "dt_model = DecisionTreeClassifier(max_depth=10, min_samples_leaf=10, random_state=42)\n",
    "dt_model.fit(X_train_scaled, y_train_balanced)\n",
    "\n",
    "y_pred = dt_model.predict(X_test_scaled)\n",
    "y_prob = dt_model.predict_proba(X_test_scaled)[:, 1]\n",
    "\n",
    "acc = accuracy_score(y_test, y_pred)\n",
    "prec = precision_score(y_test, y_pred)\n",
    "rec = recall_score(y_test, y_pred)\n",
    "f1 = f1_score(y_test, y_pred)\n",
    "roc_auc = roc_auc_score(y_test, y_prob)\n",
    "\n",
    "print(f\"✅ Accuracy: {acc:.4f}\")\n",
    "print(f\"✅ Precision: {prec:.4f}\")\n",
    "print(f\"✅ Recall: {rec:.4f}\")\n",
    "print(f\"✅ F1 Score: {f1:.4f}\")\n",
    "print(f\"✅ ROC-AUC: {roc_auc:.4f}\")\n",
    "print(\"\\nConfusion Matrix:\")\n",
    "print(confusion_matrix(y_test, y_pred))\n",
    "\n",
    "RocCurveDisplay.from_estimator(dt_model, X_test_scaled, y_test)\n",
    "plt.title(\"ROC Curve - Decision Tree\")\n",
    "plt.grid(True)\n",
    "plt.show()\n"
   ]
  }
 ],
 "metadata": {},
 "nbformat": 4,
 "nbformat_minor": 5
}
