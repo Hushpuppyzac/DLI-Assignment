{
  "nbformat": 4,
  "nbformat_minor": 0,
  "metadata": {
    "colab": {
      "provenance": [],
      "include_colab_link": true
    },
    "kernelspec": {
      "name": "python3",
      "display_name": "Python 3"
    },
    "language_info": {
      "name": "python"
    }
  },
  "cells": [
    {
      "cell_type": "markdown",
      "metadata": {
        "id": "view-in-github",
        "colab_type": "text"
      },
      "source": [
        "<a href=\"https://colab.research.google.com/github/Hushpuppyzac/DLI-Assignment/blob/main/Eric_SVM.ipynb\" target=\"_parent\"><img src=\"https://colab.research.google.com/assets/colab-badge.svg\" alt=\"Open In Colab\"/></a>"
      ]
    },
    {
      "cell_type": "code",
      "execution_count": null,
      "metadata": {
        "id": "E1Vk3Bwg2esk"
      },
      "outputs": [],
      "source": [
        "import requests\n",
        "import nbformat\n",
        "from IPython import get_ipython\n",
        "\n",
        "url = \"https://raw.githubusercontent.com/Hushpuppyzac/DLI-Assignment/main/CleanedData.ipynb\"\n",
        "response = requests.get(url)\n",
        "notebook = nbformat.reads(response.text, as_version=4)\n",
        "ipython = get_ipython()\n",
        "\n"
      ]
    }
  ]
}